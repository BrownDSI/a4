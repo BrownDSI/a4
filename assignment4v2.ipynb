{
 "cells": [
  {
   "cell_type": "markdown",
   "metadata": {},
   "source": [
    "# Assignment 4: Data modeling and SQL for IMDB data\n",
    "***"
   ]
  },
  {
   "cell_type": "markdown",
   "metadata": {},
   "source": [
    "## Overview\n",
    "\n",
    "A company named MOVIE GEN Corp. needs your help to create and access a movie database. You are interested in helping them create this database. In this assignment, you will load the IMDB data into a database and run queries on it to retrieve records. \n",
    "\n",
    "** OBJECTIVE **\n",
    "\n",
    "In this assignment, you will first examine some flat data and develop an appropriate schema to efficiently represent that data in a SQL database.  You will then create that database, use Python to read and reformat the data and then use SQL commands to populate that database in an appropriate manner. Finally, you will query the database using different approaches and optimizations.\n",
    "\n",
    "**TASKS**\n",
    "\n",
    "1. Model data using star schema\n",
    "3. Use SQL to create a database\n",
    "4. Use Python to read data and create appropriate SQL commands to populate database \n",
    "4. Write relational algebra\n",
    "5. Run SQL to retrieve records for your customers\n",
    "7. Improve query performance\n",
    "8. Database visualization"
   ]
  },
  {
   "cell_type": "markdown",
   "metadata": {},
   "source": [
    "***\n",
    "## Part 4.1: Data modeling"
   ]
  },
  {
   "cell_type": "markdown",
   "metadata": {},
   "source": [
    "Build a **[star schema](https://en.wikipedia.org/wiki/Star_schema)** for the data contained in `all_data.csv`.\n",
    "\n",
    "Let's first read the csv file and examine its contents.  The strings in `all_data.csv` use the `latin1` character encoding.  When you read in this file using `pandas`, make sure to include this encoding option."
   ]
  },
  {
   "cell_type": "code",
   "execution_count": null,
   "metadata": {
    "collapsed": true
   },
   "outputs": [],
   "source": [
    "import pandas as pd\n",
    "\n",
    "# read data in and show head\n",
    "df = pd.read_csv('all_data.csv', encoding = 'latin1')\n",
    "df.head()"
   ]
  },
  {
   "cell_type": "markdown",
   "metadata": {},
   "source": [
    "There are 24 columns in the csv file.  \n",
    "\n",
    "** TASK 4.1: ** Draw a star schema for this dataset, save your drawing as an image and attach it to the cell below.\n",
    "\n",
    "Note: We recommended using Google Drawings. Google Drawings is an online image creator that can be used to draw the Schema, and is what the TAs used to create the Schema in the solution.\n",
    "\n",
    "Tips:\n",
    "1. Your star schema should be composed of one fact table and three dimension tables. \n",
    "1. For each table, underline primary key.\n",
    "1. Specify data types for each item.\n",
    "1. Draw 1:N, N:1, N:N or 1:1 on connecting line.\n",
    "1. Including image in markdown is easy, see [here](https://stackoverflow.com/questions/255170/markdown-and-image-alignment)."
   ]
  },
  {
   "cell_type": "markdown",
   "metadata": {},
   "source": [
    "### BEGIN SOLUTION\n",
    "<img src=\"document/relation.jpg\" width = \"700\" alt=\"fig_1\" align=center />\n",
    "\n",
    "### END SOLUTION"
   ]
  },
  {
   "cell_type": "markdown",
   "metadata": {},
   "source": [
    "## Part 4.2: Create database\n",
    " \n",
    "In this part, we will create a [SQLite3 database](https://docs.python.org/3/library/sqlite3.html). This part is really similar to what we saw in lab4b.\n",
    "\n",
    "The first thing you'll need to do when interacting with a SQLite database (and generally any SQL databases) is to open up a connection (see below). If the database doesn't exist, the SQLite3 module will create one."
   ]
  },
  {
   "cell_type": "code",
   "execution_count": null,
   "metadata": {
    "collapsed": true
   },
   "outputs": [],
   "source": [
    "import sqlite3\n",
    "import csv\n",
    "\n",
    "conn = sqlite3.connect('movie.db')\n",
    "c = conn.cursor()"
   ]
  },
  {
   "cell_type": "markdown",
   "metadata": {},
   "source": [
    "** TASK 4.2: ** Fill in function `create_database` with the following instructions.\n",
    "\n",
    "- [Drop all existing tables](https://www.techonthenet.com/sqlite/tables/drop_table.php) in the database. Doing this will allow us to simply re-run the script if we want to try a new schema.\n",
    "- [Create the tables](http://www.sqlitetutorial.net/sqlite-create-table) according to your star schema. \n",
    "\n",
    "**Note:** \n",
    "\n",
    "- To execute queries, simply run the `cursor.execute()` with your query as the argument.\n",
    "- Remember to to run 'conn.commit()' in order to commit (i.e. save) your changes.\n",
    "- Remember to define PRIMARY KEYs and FOREIGN KEYs in your table, refer to [here](http://www.sqlitetutorial.net/sqlite-primary-key/).\n",
    "- Remember to commit the connection to save changes."
   ]
  },
  {
   "cell_type": "code",
   "execution_count": null,
   "metadata": {
    "collapsed": true
   },
   "outputs": [],
   "source": [
    "def create_database(conn):\n",
    "    \"\"\"\n",
    "    Using the database connection conn, create tables appropriate for \n",
    "    storing and using IMDB data.  Drops any pre-exsiting tables that would be re-defined by this procedure.\n",
    "    \"\"\"\n",
    "    c = conn.cursor()\n",
    "    ### BEGIN SOLUTION\n",
    "    # Drop existing table\n",
    "    c.execute('DROP TABLE IF EXISTS \"movies\";')\n",
    "    c.execute('DROP TABLE IF EXISTS \"actors\";')\n",
    "    c.execute('DROP TABLE IF EXISTS \"directors\";')\n",
    "    c.execute('DROP TABLE IF EXISTS \"facts\";')\n",
    "    # Create database\n",
    "    c.execute('''\n",
    "            CREATE TABLE actors(\n",
    "                actor_id INTEGER,\n",
    "                actor_name text,\n",
    "                actor_facebook_likes int,\n",
    "                PRIMARY KEY(actor_id),\n",
    "                UNIQUE (actor_name))\n",
    "                ''')\n",
    "    c.execute('''\n",
    "            CREATE TABLE directors(\n",
    "                director_id INTEGER,\n",
    "                director_name text,\n",
    "                director_facebook_likes int,\n",
    "                PRIMARY KEY(director_id),\n",
    "                UNIQUE (director_name))''')\n",
    "    c.execute('''\n",
    "            CREATE TABLE movies(\n",
    "                movie_id INTEGER,\n",
    "                movie_title text,\n",
    "                num_voted_users int,\n",
    "                num_user_for_reviews int,\n",
    "                duration int,\n",
    "                gross int,\n",
    "                genre text,\n",
    "                movie_facebook_likes int,\n",
    "                cast_total_facebook_likes int,\n",
    "                facenumber_in_poster int,\n",
    "                language text,\n",
    "                country text,\n",
    "                budget int,\n",
    "                title_year int,\n",
    "                imdb_score float,\n",
    "                aspect_ratio float,\n",
    "                PRIMARY KEY(movie_id),\n",
    "                UNIQUE (movie_title))''')\n",
    "    c.execute('''\n",
    "            CREATE TABLE facts(\n",
    "                movie_id INTEGER,\n",
    "                director_id int not null,\n",
    "                actor_1_id int not null,\n",
    "                actor_2_id int not null,\n",
    "                actor_3_id int not null,\n",
    "                FOREIGN KEY (movie_id) REFERENCES movies(movie_id),\n",
    "                FOREIGN KEY (director_id) REFERENCES directors(director_id),\n",
    "                FOREIGN KEY (actor_1_id) REFERENCES actors(actor_id),\n",
    "                FOREIGN KEY (actor_2_id) REFERENCES actors(actor_id),\n",
    "                FOREIGN KEY (actor_3_id) REFERENCES actors(actor_id))''')\n",
    "    conn.commit()\n",
    "    ### END SOLUTION\n",
    "create_database(conn)"
   ]
  },
  {
   "cell_type": "markdown",
   "metadata": {},
   "source": [
    "Now, you should be able to view the sqlite3 database which you had created in your assignment directory. Play around with the database! \n",
    "\n",
    "You can connect to a sqlite3 database via terminal with the following command:\n",
    "\n",
    "~~~~\n",
    "sqlite3 move.db\n",
    "~~~~\n",
    "\n",
    "To see the schema of your table, you can run the following command:\n",
    "\n",
    "~~~~\n",
    ".schema\n",
    "~~~~\n",
    "\n",
    "You can execute arbitrary SQL commands from the `sqlite>` prompt.\n",
    "More info on your other options can be found here.\n",
    "\n",
    "~~~~\n",
    ".help\n",
    "~~~~\n",
    "\n",
    "Finally, to exit from a sqlite3 database use the following command:\n",
    "\n",
    "~~~~\n",
    ".exit\n",
    "~~~~"
   ]
  },
  {
   "cell_type": "markdown",
   "metadata": {},
   "source": [
    "## Part 4.3: Populate database\n",
    "\n",
    "In **Lab 4b**  we provided you with three different csv files, one for each table. However, this isn't how real world data is typically structured when you first receive it. \n",
    "\n",
    "Often, you will receive a single data \"dump\" file. As a data scientist, you need to figure out how to split it into different tables, and insert the information into a database. \n",
    "\n",
    "Fill in function `populate_database` to insert the csv file contents into the movie database.  Below is a listing of column definitions that you might find helpful."
   ]
  },
  {
   "cell_type": "markdown",
   "metadata": {},
   "source": [
    "~~~~\n",
    "0 director_name\n",
    "1 num_critic_for_reviews\n",
    "2 duration\n",
    "3 director_facebook_likes\n",
    "4 actor_3_facebook_likes\n",
    "5 actor_2_name\n",
    "6 actor_1_facebook_likes\n",
    "7 gross\n",
    "8 genres\n",
    "9 actor_1_name\n",
    "10 movie_title\n",
    "11 num_voted_users\n",
    "12 cast_total_facebook_likes\n",
    "13 actor_3_name\n",
    "14 facenumber_in_poster\n",
    "15 num_user_for_reviews\n",
    "16 language\n",
    "17 country\n",
    "18 content_rating\n",
    "19 budget\n",
    "20 title_year\n",
    "21 actor_2_facebook_likes\n",
    "22 imdb_score\n",
    "23 aspect_ratio\n",
    "24 movie_facebook_likes\n",
    "~~~~"
   ]
  },
  {
   "cell_type": "code",
   "execution_count": null,
   "metadata": {
    "collapsed": true,
    "scrolled": true
   },
   "outputs": [],
   "source": [
    "def populate_database(conn, csv_file):    \n",
    "    reader = csv.reader(open(csv_file, encoding='latin1'))\n",
    "    \n",
    "    next(reader, None)\n",
    "    for row in reader:\n",
    "        row = [item.lower() for item in row]\n",
    "        \n",
    "        # insert into dimension tables\n",
    "        ### BEGIN SOLUTION\n",
    "        try:\n",
    "            c.execute('''\n",
    "                    INSERT INTO movies (movie_title, num_voted_users, num_user_for_reviews, \n",
    "                    duration, gross, genre, movie_facebook_likes, cast_total_facebook_likes, \n",
    "                    facenumber_in_poster, language, country, budget, title_year, imdb_score, \n",
    "                    aspect_ratio)\n",
    "                    VALUES (?, ?, ?, ?, ?, ?, ?, ?, ?, ?, ?, ?, ?, ?, ?)''',\n",
    "                    (row[10], row[11], row[15], row[2], row[7], row[8], \n",
    "                    row[24], row[12], row[14], row[16], row[17], row[19], row[20], row[22], \n",
    "                    row[23]))\n",
    "        except sqlite3.IntegrityError:\n",
    "            pass\n",
    "        except sqlite3.Error as e:\n",
    "            print(\"movies, insert error:\", e.args[0])\n",
    "  \n",
    "        def insert_likes(table, agent, name, likes):\n",
    "            try:\n",
    "                c.execute('''\n",
    "                        INSERT INTO {0} ({1}_name, {1}_facebook_likes)\n",
    "                        VALUES (?, ?)'''.format(table, agent), (name, likes))\n",
    "            except sqlite3.IntegrityError:\n",
    "                pass\n",
    "            except sqlite3.Error as e:\n",
    "                print(\"%s, insert error:\"%table, e.args[0])\n",
    "                      \n",
    "        insert_likes('directors', 'director', row[0],row[3])\n",
    "        insert_likes('actors', 'actor', row[9],row[6])\n",
    "        insert_likes('actors', 'actor', row[5],row[21])\n",
    "        insert_likes('actors', 'actor', row[13],row[4])\n",
    "        ### END SOLUTION\n",
    "        \n",
    "        # insert fact table\n",
    "        ### BEGIN SOLUTION\n",
    "        c.execute('''\n",
    "                INSERT INTO facts \n",
    "                SELECT m.movie_id, d.director_id, a1.actor_id, a2.actor_id, a3.actor_id\n",
    "                FROM movies m, directors d, actors a1, actors a2, actors a3\n",
    "                WHERE m.movie_title = ? AND d.director_name = ? AND a1.actor_name = ? \n",
    "                AND a2.actor_name = ? AND a3.actor_name = ?\n",
    "                ''', (row[10], row[0], row[9], row[5], row[13]))\n",
    "        ### END SOLUTION\n",
    "        conn.commit()\n",
    "        \n",
    "populate_database(conn, 'all_data.csv')"
   ]
  },
  {
   "cell_type": "markdown",
   "metadata": {},
   "source": [
    "## Part 4.4: Relational Algebra\n",
    "\n",
    "In this part, your task is to write relational algebra expressions based on the following three tables that represent a very limited subset of the IMDB dataset. "
   ]
  },
  {
   "cell_type": "markdown",
   "metadata": {},
   "source": [
    "`actors` Table:\n",
    "\n",
    "| name | country | facebook_likes |age|               \n",
    "|---------------|------|------|------| \n",
    "| Jennifer Lawrence| U.S. |34000 |26 | \n",
    "|  Johnny Depp  | U.S.| 40000| 54|                    \n",
    "|Daniel Radcliffe | U.K.|11000 | 28|\n",
    "| Leonardo DiCaprio|U.S. |29000 | 42| \n",
    "|Robin Wright | U.S.|18000 | 51|\n",
    "|Josh Hutcherson |U.S. |14000 | 24| \n",
    "| Peter Dinklage| U.S.|22000 |48 | "
   ]
  },
  {
   "cell_type": "markdown",
   "metadata": {},
   "source": [
    "`actor_movies` Table:\n",
    "\n",
    "| name| movie_name|\n",
    "|------|------|\n",
    "| Jennifer Lawrence| X-Men: Days of Future Past |\n",
    "|Johnny Depp|Pirates of the Caribbean: At World's End|\n",
    "|Robin Wright | The Girl with the Dragon Tattoo |\n",
    "| Jennifer Lawrence| The Hunger Games: Mockingjay - Part 2 |\n",
    "|Leonardo DiCaprio | Inception |\n",
    "| Peter Dinklage|X-Men: Days of Future Past |\n",
    "|Josh Hutcherson | The Hunger Games: Mockingjay - Part 2|"
   ]
  },
  {
   "cell_type": "markdown",
   "metadata": {},
   "source": [
    "`directors` Table:\n",
    "\n",
    "| name | country | facebook_likes |age|               \n",
    "|---------------|------|------|------|  \n",
    "| Christopher Nolan| U.K. |22000 |46 | \n",
    "| Alfonso Cuarón   | Mexico| 10000| 55|                    \n",
    "|Shane Black | U.S.|1000 | 55|\n",
    "| David Fincher|U.S. |21000 | 54| \n",
    "|J.J. Abrams | U.S.|14000 | 51|"
   ]
  },
  {
   "cell_type": "markdown",
   "metadata": {},
   "source": [
    "`director_movies` Table:\n",
    "\n",
    "| name| movie_name|\n",
    "|------|------|\n",
    "| Christopher Nolan| Inception |\n",
    "|Shane Black|Iron Man 3|\n",
    "|Alfonso Cuarón | Gravity |\n",
    "| J.J. Abrams| Star Wars: The Force Awakens|\n",
    "|David Fincher | The Girl with the Dragon Tattoo |"
   ]
  },
  {
   "cell_type": "markdown",
   "metadata": {},
   "source": [
    "#### TASK 4: Based on the tables above, answer the following using relational algebra.\n",
    "1. Find the name of all movies that have leading american actors who are over 50-years-old.\n",
    "1. Find the name of all actors/actress that didn't star in the movie _Inception_.\n",
    "1. Find the name of all movies that have both famous directors and famous actors. (Assume people with at least 20,000 facebook are famous.)\n",
    "1. Find the name of actor/actress that has the highest number of movies.<br>\n",
    "    Hint: use aggregate functions\n",
    "1. Find the name of movies whose actor has the highest number of facebook likes.<br>\n",
    "    Hint: use aggregate functions/temp variables"
   ]
  },
  {
   "cell_type": "markdown",
   "metadata": {},
   "source": [
    "_write your answers in this cell_\n",
    "\n",
    "### BEGIN SOLUTION\n",
    "1. $\\pi_{movie\\_name}(\\sigma_{country='U.S.' \\land age>50}(actors)\\bowtie actor\\_movies)$\n",
    "1. $\\pi_{name}(actors) - \\pi_{name}(\\sigma_{movie\\_name='Inception'}(actor\\_movies))$\n",
    "1. $\\pi_{movie\\_name}(actor\\_movies \\bowtie \\sigma_{facebook\\_likes>20000}(actors)) \\bowtie \\pi_{movie\\_name}(director\\_movies \\bowtie \\sigma_{facebook\\_likes>20000}(directors))$\n",
    "1. $\\pi_{name}({}_{name}g_{max(count)}({}_{name}g_{count(movie\\_name) \\ AS \\ count}(actor\\_movies))$\n",
    "1. $T = \\pi_{movie\\_name}({}_{name}g_{max(facebook\\_likes)}(actors) \\bowtie actor\\_movies)$\n",
    "\n",
    "### END SOLUTION"
   ]
  },
  {
   "cell_type": "markdown",
   "metadata": {},
   "source": [
    "***\n",
    "## Part 4.5: Running Queries"
   ]
  },
  {
   "cell_type": "markdown",
   "metadata": {},
   "source": [
    "Now that you have created a database with the IMDB data. Your customer needs records that satisfy their requirements based on several constraints in order to improve their business revenue. \n",
    "In this part, you will create several SQL statements to extract them. \n",
    "\n",
    "IPython has a built-in module called [sql](https://pypi.python.org/pypi/ipython-sql) which allows us to easily interface with a database. The following two lines load this SQL extension and connect to your IMDB database:"
   ]
  },
  {
   "cell_type": "code",
   "execution_count": null,
   "metadata": {
    "collapsed": true
   },
   "outputs": [],
   "source": [
    "!pip install ipython-sql"
   ]
  },
  {
   "cell_type": "code",
   "execution_count": null,
   "metadata": {
    "collapsed": true,
    "scrolled": false
   },
   "outputs": [],
   "source": [
    "%reload_ext sql\n",
    "%sql sqlite:///movie.db"
   ]
  },
  {
   "cell_type": "markdown",
   "metadata": {},
   "source": [
    "Your task is to write 10 queries that fetch certain records for your customers. To run SQL queries, first call <font color = \"red\">%%sql</font> magic and then write your SQL queries."
   ]
  },
  {
   "cell_type": "markdown",
   "metadata": {},
   "source": [
    "**Query 4.1: Find the number of directors in the directors table.**\n"
   ]
  },
  {
   "cell_type": "code",
   "execution_count": null,
   "metadata": {
    "collapsed": true
   },
   "outputs": [],
   "source": [
    "%%sql\n",
    "SELECT count(director_name) AS count FROM directors"
   ]
  },
  {
   "cell_type": "markdown",
   "metadata": {},
   "source": [
    "\n",
    "**Query 4.2: Find the number of actors in the actors table.**\n"
   ]
  },
  {
   "cell_type": "code",
   "execution_count": null,
   "metadata": {
    "collapsed": true
   },
   "outputs": [],
   "source": [
    "%%sql\n",
    "SELECT count(actor_name) AS count FROM actors"
   ]
  },
  {
   "cell_type": "markdown",
   "metadata": {},
   "source": [
    "\n",
    "**Query 4.3: Find the number of movies in the movies table.**\n"
   ]
  },
  {
   "cell_type": "code",
   "execution_count": null,
   "metadata": {
    "collapsed": true
   },
   "outputs": [],
   "source": [
    "%%sql\n",
    "SELECT count(*) AS count FROM movies"
   ]
  },
  {
   "cell_type": "markdown",
   "metadata": {},
   "source": [
    "\n",
    "There should be 1453 directors, 3872 actors, 3023 movies. Please make sure you get the same results before running the following queries.\n",
    "\n",
    "Now, we can have some fun querying the database!\n",
    "\n",
    "**Query 4.4: Find years that have more than 100 movies and arrange them in ascending order. **\n"
   ]
  },
  {
   "cell_type": "code",
   "execution_count": null,
   "metadata": {
    "collapsed": true,
    "scrolled": true
   },
   "outputs": [],
   "source": [
    "%%sql\n",
    "SELECT title_year\n",
    "FROM movies\n",
    "GROUP BY title_year\n",
    "HAVING COUNT(*) >= 100\n",
    "ORDER BY title_year;"
   ]
  },
  {
   "cell_type": "markdown",
   "metadata": {},
   "source": [
    "\n",
    "**Query 4.5: Order director name from most Facebook likes to fewest Facebook likes and only show top 10 directors.**\n"
   ]
  },
  {
   "cell_type": "code",
   "execution_count": null,
   "metadata": {
    "collapsed": true,
    "scrolled": false
   },
   "outputs": [],
   "source": [
    "%%sql\n",
    "SELECT director_name\n",
    "FROM directors\n",
    "ORDER BY director_facebook_likes DESC\n",
    "LIMIT 10;"
   ]
  },
  {
   "cell_type": "markdown",
   "metadata": {},
   "source": [
    "\n",
    "**Query 6: Find the titles of movies that are directed by Christopher Nolan and order them by movie title. **\n"
   ]
  },
  {
   "cell_type": "code",
   "execution_count": null,
   "metadata": {
    "collapsed": true,
    "scrolled": false
   },
   "outputs": [],
   "source": [
    "%%sql\n",
    "SELECT movie_title\n",
    "FROM directors d, movies m, facts f\n",
    "WHERE f.movie_id=m.movie_id AND \n",
    "f.director_id=d.director_id AND \n",
    "d.director_name='christopher nolan'\n",
    "ORDER BY movie_title;"
   ]
  },
  {
   "cell_type": "markdown",
   "metadata": {},
   "source": [
    "\n",
    "** Query 4.7: Find all the directors who directed at least 5 movies since 2007 (included) sorted by the number of movies in descending order.**\n"
   ]
  },
  {
   "cell_type": "code",
   "execution_count": null,
   "metadata": {
    "collapsed": true,
    "scrolled": true
   },
   "outputs": [],
   "source": [
    "%%sql\n",
    "SELECT tmp.director_name, tmp.count\n",
    "FROM (SELECT d.director_id, d.director_name, COUNT(*) AS count\n",
    "      FROM directors d, movies m, facts f\n",
    "      WHERE f.movie_id=m.movie_id AND f.director_id=d.director_id AND m.title_year>=2007\n",
    "      GROUP BY d.director_id, d.director_name) AS tmp\n",
    "WHERE tmp.count>=5\n",
    "ORDER BY tmp.count desc;"
   ]
  },
  {
   "cell_type": "markdown",
   "metadata": {},
   "source": [
    "\n",
    "**Query 4.8: Find the top five most productive actors since 2010 (included).**\n"
   ]
  },
  {
   "cell_type": "code",
   "execution_count": null,
   "metadata": {
    "collapsed": true,
    "scrolled": true
   },
   "outputs": [],
   "source": [
    "%%sql\n",
    "SELECT tmp.actor_name, tmp.count\n",
    "FROM (SELECT a.actor_id, a.actor_name, COUNT(*) AS count\n",
    "      FROM actors a, movies m, facts f\n",
    "      WHERE f.movie_id=m.\n",
    "      movie_id AND m.title_year>=2010 AND (f.actor_1_id=a.actor_id OR f.actor_2_id=a.actor_id OR f.actor_3_id=a.actor_id)\n",
    "      GROUP BY a.actor_id, a.actor_name) AS tmp\n",
    "ORDER BY tmp.count desc\n",
    "LIMIT 5;"
   ]
  },
  {
   "cell_type": "markdown",
   "metadata": {},
   "source": [
    "\n",
    "**Query 4.9: Find all the actors who have collaborated with Christopher Nolan, sorted by their collaboration frequency in descending order.**\n"
   ]
  },
  {
   "cell_type": "code",
   "execution_count": null,
   "metadata": {
    "collapsed": true,
    "scrolled": true
   },
   "outputs": [],
   "source": [
    "%%sql\n",
    "SELECT tmp.actor_name, COUNT(movie_id) AS count\n",
    "FROM (SELECT actor_1_id AS actor_id, actor_name, movie_id FROM directors d, facts f, actors a\n",
    "      WHERE d.director_id=f.director_id AND d.director_name='christopher nolan' AND f.actor_1_id=a.actor_id\n",
    "      UNION\n",
    "      SELECT actor_2_id AS actor_id, actor_name, movie_id FROM directors d, facts f, actors a\n",
    "      WHERE d.director_id=f.director_id AND d.director_name='christopher nolan' AND f.actor_2_id=a.actor_id\n",
    "      UNION\n",
    "      SELECT actor_3_id AS actor_id, actor_name, movie_id FROM directors d, facts f, actors a\n",
    "      WHERE d.director_id=f.director_id AND d.director_name='christopher nolan' AND f.actor_3_id=a.actor_id) AS tmp\n",
    "GROUP BY tmp.actor_name\n",
    "ORDER BY count DESC;"
   ]
  },
  {
   "cell_type": "markdown",
   "metadata": {},
   "source": [
    "\n",
    "**Query 4.10: Without using an aggregation operator, write a SQL statement that finds the title of the movie(s) with the most Facebook likes.**\n"
   ]
  },
  {
   "cell_type": "code",
   "execution_count": null,
   "metadata": {
    "collapsed": true
   },
   "outputs": [],
   "source": [
    "%%sql\n",
    "SELECT m.movie_title\n",
    "FROM movies m\n",
    "EXCEPT\n",
    "SELECT m1.movie_title \n",
    "FROM movies m1, movies m2\n",
    "WHERE m1.movie_facebook_likes < m2.movie_facebook_likes;"
   ]
  },
  {
   "cell_type": "markdown",
   "metadata": {},
   "source": [
    "### END SOLUTION\n",
    "\n",
    "## Part 4.6: Database Visualization\n",
    "\n",
    "Since your customer isn't very good with databases, SQL or tabluar data,  they want your help visualizing some of database. With the help of SQL, you can easily retrieve data from the database, and then use pandas dataframes and `matlabplotlib.pyplot` to create the visualizations.\n",
    "\n",
    "Note: refer to Pandas visualization method [here](https://pandas.pydata.org/pandas-docs/stable/visualization.html)."
   ]
  },
  {
   "cell_type": "code",
   "execution_count": null,
   "metadata": {
    "collapsed": true
   },
   "outputs": [],
   "source": [
    "import matplotlib.pyplot as plt\n",
    "import pandas as pd\n",
    "%matplotlib inline"
   ]
  },
  {
   "cell_type": "markdown",
   "metadata": {},
   "source": [
    "** Example **:\n",
    "The customer wants a a bar chart of the top 10 actors(based on facebook likes), sorted in descending order. "
   ]
  },
  {
   "cell_type": "code",
   "execution_count": null,
   "metadata": {
    "collapsed": true,
    "scrolled": false
   },
   "outputs": [],
   "source": [
    "# Solution\n",
    "\n",
    "c.execute('''\n",
    "        SELECT actor_name, actor_facebook_likes\n",
    "        FROM actors\n",
    "        ORDER BY actor_facebook_likes DESC\n",
    "        LIMIT 10''')\n",
    "dataframe = pd.DataFrame(data = c.fetchall(), columns = ['actor_name', 'actor_fcebook_likes'])\n",
    "dataframe.plot.bar(x='actor_name', title='actor facebook likes', figsize=(10,7))"
   ]
  },
  {
   "cell_type": "markdown",
   "metadata": {},
   "source": [
    "** Task 4.5 **: Create box plots of movie duration, imdb_score and num_critic_for_reviews.  Hint: Create each in its own plot, otherwise the y-axis will not be informative."
   ]
  },
  {
   "cell_type": "code",
   "execution_count": null,
   "metadata": {
    "collapsed": true
   },
   "outputs": [],
   "source": [
    "### BEGIN SOLUTION\n",
    "c = conn.cursor()\n",
    "c.execute('''\n",
    "        SELECT duration, imdb_score, num_user_for_reviews\n",
    "        FROM movies''')\n",
    "cols = ['duration', 'imdb_score', 'num_user_for_reviews'];\n",
    "df = pd.DataFrame(data = c.fetchall(), columns = cols)\n",
    "df.describe()\n",
    "plt.subplot(311)\n",
    "df['duration'].plot.box(figsize=(10,7), sym='+')\n",
    "plt.subplot(312)\n",
    "df['imdb_score'].plot.box(figsize=(10,7), sym='+')\n",
    "plt.subplot(313)\n",
    "df['num_user_for_reviews'].plot.box(figsize=(10,7), sym='+')\n",
    "### END SOLUTION"
   ]
  },
  {
   "cell_type": "markdown",
   "metadata": {},
   "source": [
    "** Task 4.6 **: Create a pie chart of movie counts per country of countries that have more than 10 movies"
   ]
  },
  {
   "cell_type": "code",
   "execution_count": null,
   "metadata": {
    "collapsed": true,
    "scrolled": false
   },
   "outputs": [],
   "source": [
    "### BEGIN SOLUTION\n",
    "c.execute('''\n",
    "        SELECT country, COUNT(country) AS number\n",
    "        FROM movies\n",
    "        GROUP BY country\n",
    "        HAVING COUNT(country) > 10''')\n",
    "dataframe = pd.DataFrame(data = c.fetchall(), columns = ['country', 'number'])\n",
    "dataframe.plot.pie(figsize=(10,10), y = 'number', labels = dataframe['country'].tolist())\n",
    "### END SOLUTION"
   ]
  },
  {
   "cell_type": "markdown",
   "metadata": {},
   "source": [
    "** Task 4.7 **: Plot a curve of cumulative number of movies released over time.\n",
    "\n",
    "** hint **: use [cumsum](https://pandas.pydata.org/pandas-docs/stable/generated/pandas.DataFrame.cumsum.html) function."
   ]
  },
  {
   "cell_type": "code",
   "execution_count": null,
   "metadata": {
    "collapsed": true,
    "scrolled": false
   },
   "outputs": [],
   "source": [
    "### BEGIN SOLUTION\n",
    "c.execute('''\n",
    "        SELECT title_year, COUNT(*) AS number\n",
    "        FROM movies\n",
    "        GROUP BY title_year\n",
    "        ORDER BY title_year''')\n",
    "dataframe = pd.DataFrame(data = c.fetchall(), columns = ['title_year', 'number'])\n",
    "dataframe['sum'] = dataframe['number'].cumsum()\n",
    "dataframe.plot(x='title_year', y='sum', title = 'Total movies', figsize=(9, 7))\n",
    "### END SOLUTION"
   ]
  },
  {
   "cell_type": "markdown",
   "metadata": {},
   "source": [
    "***\n",
    "## Part 4.7: Query Optimization\n",
    "In this part, we will see how to optimize database access by indexing and using materialized views. \n",
    "\n",
    "The next three functions create and exercise a toy database.\n",
    "`setup_test` creates a connection to the database.  `insert_test` performs `num` SQL `SELECT`s, the  function `select_test` does `num` SQL `INSERT`s.  "
   ]
  },
  {
   "cell_type": "code",
   "execution_count": null,
   "metadata": {
    "collapsed": true
   },
   "outputs": [],
   "source": [
    "def setup_test(db):\n",
    "    conn = sqlite3.connect(db)\n",
    "    conn.execute('DROP TABLE IF EXISTS scripts')\n",
    "    conn.execute('''\n",
    "            CREATE TABLE scripts (\n",
    "                script_id INTEGER,\n",
    "                author_name text,\n",
    "                script_name text,\n",
    "                author_facebook_likes int,\n",
    "                PRIMARY KEY(script_id))\n",
    "                ''')\n",
    "    conn.commit()\n",
    "    return conn\n",
    "                \n",
    "\n",
    "def insert_test(conn, num):\n",
    "    c = conn.cursor()\n",
    "    for i in range(num):\n",
    "        c.execute('''INSERT INTO scripts (script_name) VALUES ('Dr. Who %d')'''%i)\n",
    "    conn.commit()\n",
    "\n",
    "def select_test(conn, num):\n",
    "    c = conn.cursor()\n",
    "    for i in range(num):\n",
    "        c.execute('''SELECT * \n",
    "                     FROM scripts\n",
    "                     WHERE script_name = \"Dr. Who %d\"'''%i)\n",
    "\n"
   ]
  },
  {
   "cell_type": "markdown",
   "metadata": {},
   "source": [
    "Below is some code for benchmarking your database.  Run it to see how well your database currently performs."
   ]
  },
  {
   "cell_type": "code",
   "execution_count": null,
   "metadata": {
    "collapsed": true
   },
   "outputs": [],
   "source": [
    "conn = setup_test('test.db')\n",
    "insert_test(conn, 15000)"
   ]
  },
  {
   "cell_type": "code",
   "execution_count": null,
   "metadata": {
    "collapsed": true
   },
   "outputs": [],
   "source": [
    "%timeit -n 3 -r 3 insert_test(conn, 15000)"
   ]
  },
  {
   "cell_type": "code",
   "execution_count": null,
   "metadata": {
    "collapsed": true
   },
   "outputs": [],
   "source": [
    "%timeit -n 3 -r 3 select_test(conn, 5000) "
   ]
  },
  {
   "cell_type": "markdown",
   "metadata": {
    "collapsed": true
   },
   "source": [
    "### Indexing\n",
    "\n",
    "** Task 4.8 **: Optimize the database so that `test_select` test performs more quickly.  Fill in the appropriate SQL commands in the cell below.  \n",
    "\n",
    "Hint: try adding an INDEX\n",
    "\n",
    "Note: The line `!cp movie.db movie1.db` copies your `movie.db` database to `movie1.db`."
   ]
  },
  {
   "cell_type": "code",
   "execution_count": null,
   "metadata": {
    "collapsed": true
   },
   "outputs": [],
   "source": [
    "conn1 = setup_test('test1.db')\n",
    "\n",
    "### BEGIN SOLUTION\n",
    "conn1.execute('''CREATE INDEX IF NOT EXISTS script_name_index ON scripts(script_name)''')\n",
    "### END SOLUTION\n",
    "conn1.commit()"
   ]
  },
  {
   "cell_type": "markdown",
   "metadata": {},
   "source": [
    "Run the following code to see how your optimization performs."
   ]
  },
  {
   "cell_type": "code",
   "execution_count": null,
   "metadata": {
    "collapsed": true
   },
   "outputs": [],
   "source": [
    "%timeit -n 3 -r 3 insert_test(conn1,15000)"
   ]
  },
  {
   "cell_type": "code",
   "execution_count": null,
   "metadata": {
    "collapsed": true
   },
   "outputs": [],
   "source": [
    "%timeit -n 3 -r 3 select_test(conn1, 5000) "
   ]
  },
  {
   "cell_type": "markdown",
   "metadata": {},
   "source": [
    "** Task 4.9 **: Explain the performance changes you see.  Have any trade-offs been made?"
   ]
  },
  {
   "cell_type": "markdown",
   "metadata": {},
   "source": [
    "### BEGIN SOLUTION\n",
    "The read performance is much faster (more than an order of magnitude quicker).  The write performance is slower by about a factor of two.  This occurs because the index allows searching to occur much more quickly (think binary search or hash indexing) whereas maintaining the index costs more in time.\n",
    "### END SOLUTION"
   ]
  },
  {
   "cell_type": "markdown",
   "metadata": {},
   "source": [
    "### Temporary Tables\n",
    "Looking at the source code you have developed for the company you notice the following query turns out to be a bottle neck, \n",
    "\n",
    "```\n",
    "SELECT * FROM actors a, directors d, movies m, facts f \n",
    "                WHERE a.actor_id = f.actor_1_id AND d.director_id = f.director_id AND m.movie_id = f.movie_id\n",
    "```\n",
    "\n",
    "Below is some code to benchmark it's performance.  Try running it."
   ]
  },
  {
   "cell_type": "code",
   "execution_count": null,
   "metadata": {
    "collapsed": true
   },
   "outputs": [],
   "source": [
    "def test(conn, num):\n",
    "    c = conn.cursor()\n",
    "    for i in range(num):\n",
    "        c.execute(\n",
    "            '''SELECT * FROM actors a, directors d, movies m, facts f \n",
    "                WHERE a.actor_id = f.actor_1_id AND d.director_id = f.director_id AND m.movie_id = f.movie_id''')\n",
    "        conn.commit()"
   ]
  },
  {
   "cell_type": "code",
   "execution_count": null,
   "metadata": {
    "collapsed": true
   },
   "outputs": [],
   "source": [
    "conn = sqlite3.connect('movie.db')\n",
    "%timeit test(conn,50000)"
   ]
  },
  {
   "cell_type": "markdown",
   "metadata": {},
   "source": [
    "** Task 4.10: ** One way to speed this query up is to store it's results and refer to them as needed, as opposed to rerunning the query.  Do this *inside* the database by using SQL to create a tempory table called 'testtmp' of these search results.  Write solution below, and then use the benchmarking code provided to test it."
   ]
  },
  {
   "cell_type": "code",
   "execution_count": null,
   "metadata": {
    "collapsed": true
   },
   "outputs": [],
   "source": [
    "def setup_mytmp(conn):\n",
    "    ''' Create a temporary table for a common query's results'''\n",
    "    c = conn.cursor()\n",
    "    c.execute('''DROP TABLE IF EXISTS mytmp''')\n",
    "### BEGIN SOLUTION\n",
    "    c.execute('''CREATE TABLE IF NOT EXISTS mytmp AS \n",
    "             SELECT * FROM actors a, directors d, movies m, facts f \n",
    "            WHERE a.actor_id = f.actor_1_id AND d.director_id = f.director_id AND m.movie_id = f.movie_id''')\n",
    "    conn.commit()\n",
    "### END SOLUTION"
   ]
  },
  {
   "cell_type": "code",
   "execution_count": null,
   "metadata": {
    "collapsed": true
   },
   "outputs": [],
   "source": [
    "def test_mytmp(conn, num):\n",
    "    c = conn.cursor()\n",
    "    setup_mytmp(conn)\n",
    "    for i in range(num):\n",
    "        c.execute('''SELECT * FROM mytmp''')\n",
    "\n",
    "        \n",
    "%timeit test_mytmp(conn, 50000)"
   ]
  },
  {
   "cell_type": "markdown",
   "metadata": {},
   "source": [
    "### Analysis\n",
    "\n",
    "In this example, the run time of each test depends on the parameter `num`. The code below runs both `test` and your optimized version `test_mytmp` with `num = [100, 200, 400, 800, 1600, 3200, 6400]` and plots the run time performance of each function.  Note: This function uses `timeit` to find best execution times using repeated trials, the number of trails used depends on each trails run time (shorter times use more trials)."
   ]
  },
  {
   "cell_type": "code",
   "execution_count": null,
   "metadata": {
    "collapsed": true
   },
   "outputs": [],
   "source": [
    "import timeit as timeit\n",
    "\n",
    "X = [100, 200, 400, 800, 1600, 3200, 6400]\n",
    "a = []\n",
    "b = []\n",
    "for i in X:\n",
    "    result = %timeit -o test(conn,i)\n",
    "    a.append(result.best)\n",
    "    result = %timeit -o test_mytmp(conn,i)\n",
    "    b.append(result.best)     \n",
    "    \n",
    "plt.plot(X, a, label = 'test')\n",
    "plt.plot(X, b, label = 'test_mytmp')\n",
    "plt.xlabel = 'number of select'\n",
    "plt.ylabel = 'time / s'\n",
    "plt.legend()"
   ]
  },
  {
   "cell_type": "markdown",
   "metadata": {},
   "source": [
    "** Task 4.11 ** What do the performance curves tell you about the use of temporary tables in this example? (you may need to run this code a few times to get a good feel for the situation)\n",
    "\n",
    "_write your answer here_"
   ]
  }
 ],
 "metadata": {
  "kernelspec": {
   "display_name": "Python 3",
   "language": "python",
   "name": "python3"
  },
  "language_info": {
   "codemirror_mode": {
    "name": "ipython",
    "version": 3
   },
   "file_extension": ".py",
   "mimetype": "text/x-python",
   "name": "python",
   "nbconvert_exporter": "python",
   "pygments_lexer": "ipython3",
   "version": "3.6.0"
  }
 },
 "nbformat": 4,
 "nbformat_minor": 1
}
