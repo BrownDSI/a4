{
 "cells": [
  {
   "cell_type": "markdown",
   "metadata": {},
   "source": [
    "# Assignment 4: Data modeling and SQL for IMDB data\n",
    "***"
   ]
  },
  {
   "cell_type": "markdown",
   "metadata": {},
   "source": [
    "## Overview\n",
    "\n",
    "A company named MOVIE GEN Corp. needs your help to create and access a movie database. You are interested in helping them create this database. In this assignment, you will load the IMDB data into a database and run queries on it to retrieve records. \n",
    "\n",
    "** OBJECTIVE **\n",
    "\n",
    "In this assignment, you will first examine some flat data and develop an appropriate schema to efficiently represent that data in a SQL database.  You will then create that database, use Python to read and reformat the data and then use SQL commands to populate that database in an appropriate manner. Finally, you will query the database using different approaches and optimizations.\n",
    "\n",
    "**TASKS**\n",
    "\n",
    "1. Model data using star schema\n",
    "3. Use SQL to create a database\n",
    "4. Use Python to read data and create appropriate SQL commands to populate database \n",
    "4. Write relational algebra\n",
    "5. Run SQL to retrieve records for your customers\n",
    "7. Improve query performance\n",
    "8. Database visualization"
   ]
  },
  {
   "cell_type": "markdown",
   "metadata": {},
   "source": [
    "***\n",
    "## Part 4.1: Data modeling"
   ]
  },
  {
   "cell_type": "markdown",
   "metadata": {},
   "source": [
    "Build a **[star schema](https://en.wikipedia.org/wiki/Star_schema)** for the data contained in `all_data.csv`.\n",
    "\n",
    "Let's first read the csv file and examine its contents.  The strings in `data.csv` use the `latin1` character encoding.  When you read in this file using `pandas`, make sure to include this encoding option."
   ]
  },
  {
   "cell_type": "code",
   "execution_count": null,
   "metadata": {
    "collapsed": false
   },
   "outputs": [],
   "source": [
    "import pandas as pd\n",
    "\n",
    "# read data in and show head\n",
    "df = pd.read_csv('all_data.csv', encoding = 'latin1')\n",
    "df.head()"
   ]
  },
  {
   "cell_type": "markdown",
   "metadata": {},
   "source": [
    "There are 24 columns in the csv file.  \n",
    "\n",
    "** TASK 4.1: ** Draw a star schema for this dataset, save your drawing as an image and attach it to the cell below.\n",
    "\n",
    "Note: We recommended using Google Drawings. Google Drawings is an online image creator that can be used to draw the Schema, and is what the TAs used to create the Schema in the solution.\n",
    "\n",
    "Tips:\n",
    "1. Your star schema should be composed of one fact table and three dimension tables. \n",
    "1. For each table, underline primary key.\n",
    "1. Specify data types for each item.\n",
    "1. Draw 1:N, N:1, N:N or 1:1 on connecting line.\n",
    "1. Including image in markdown is easy, see [here](https://stackoverflow.com/questions/255170/markdown-and-image-alignment)."
   ]
  },
  {
   "cell_type": "markdown",
   "metadata": {},
   "source": [
    "# YOUR CODE HERE"
   ]
  },
  {
   "cell_type": "markdown",
   "metadata": {},
   "source": [
    "## Part 4.2: Create database\n",
    " \n",
    "In this part, we will create a [SQLite3 database](https://docs.python.org/3/library/sqlite3.html). This part is really similar to what we saw in lab4b.\n",
    "\n",
    "The first thing you'll need to do when interacting with a SQLite database (and generally any SQL databases) is to open up a connection (see below). If the database doesn't exist, the SQLite3 module will create one."
   ]
  },
  {
   "cell_type": "code",
   "execution_count": null,
   "metadata": {
    "collapsed": true
   },
   "outputs": [],
   "source": [
    "import sqlite3\n",
    "import csv\n",
    "\n",
    "conn = sqlite3.connect('movie.db')\n",
    "c = conn.cursor()"
   ]
  },
  {
   "cell_type": "markdown",
   "metadata": {},
   "source": [
    "** TASK 4.2: ** Fill in function `create_database` with the following instructions.\n",
    "\n",
    "- [Drop all existing tables](https://www.techonthenet.com/sqlite/tables/drop_table.php) in the database. Doing this will allow us to simply re-run the script if we want to try a new schema.\n",
    "- [Create the tables](http://www.sqlitetutorial.net/sqlite-create-table) according to your star schema. \n",
    "\n",
    "**Note:** \n",
    "\n",
    "- To execute queries, simply run the `cursor.execute()` with your query as the argument.\n",
    "- Remember to to run 'conn.commit()' in order to commit (i.e. save) your changes.\n",
    "- Remember to define PRIMARY KEY and FOREIGN KEY in your table, refer to [here](http://www.sqlitetutorial.net/sqlite-primary-key/).\n",
    "- Remember to commit the connection to save changes."
   ]
  },
  {
   "cell_type": "code",
   "execution_count": null,
   "metadata": {
    "collapsed": true
   },
   "outputs": [],
   "source": [
    "def create_database(conn):\n",
    "    \"\"\"\n",
    "    Using the database connection conn, create tables appropriate for \n",
    "    storing and using IMDB data.  Drops any pre-exsiting tables that would be re-defined by this procedure.\n",
    "    \"\"\"\n",
    "    c = conn.cursor()\n",
    "    # YOUR CODE HERE\n",
    "create_database(conn)"
   ]
  },
  {
   "cell_type": "markdown",
   "metadata": {},
   "source": [
    "Now, you should be able to view the sqlite3 database which you had created in your assignment directory. Play around with the database! \n",
    "\n",
    "You can connect to a sqlite3 database via terminal with the following command:\n",
    "\n",
    "~~~~\n",
    "sqlite3 move.db\n",
    "~~~~\n",
    "\n",
    "To see the schema of your table, you can run the following command:\n",
    "\n",
    "~~~~\n",
    ".schema\n",
    "~~~~\n",
    "\n",
    "You can execute arbitrary SQL commands from the `sqlite>` prompt.\n",
    "More info on your other options can be found here.\n",
    "\n",
    "~~~~\n",
    ".help\n",
    "~~~~\n",
    "\n",
    "Finally, to exit from a sqlite3 database use the following command:\n",
    "\n",
    "~~~~\n",
    ".exit\n",
    "~~~~"
   ]
  },
  {
   "cell_type": "markdown",
   "metadata": {},
   "source": [
    "## Part 4.3: Populate database\n",
    "\n",
    "When you did lab4.2, we you with three different csv files, one for each table. You didn't need to think about unique ids and de-duplication. However, this isn't how real world data is typically structured when you first receive it. \n",
    "\n",
    "Often, you will receive a single data \"dump\" file. As a data scientist, you need to figure out how to split it into different tables, and insert the information into a database. Let's take a simple example here:\n",
    "\n",
    "`test table`\n",
    "\n",
    "| student | instructor |\n",
    "|---------|------------|\n",
    "|Jin      | Ugur       |\n",
    "|Abhishek | Dan        |\n",
    "|Jin      | Tim        |\n",
    "|Luke     | Dan        |\n",
    "\n",
    "In test table, `Jin` and `Ugur` appear several times. Below is the pseudo code for split this table into student table, instructor table and fact table:"
   ]
  },
  {
   "cell_type": "raw",
   "metadata": {},
   "source": [
    "# NOTE: this code couldn't be run, it's just pseudo code\n",
    "# step 1\n",
    "student_dict = dict()\n",
    "instructor_dict = dict()\n",
    "# step 2\n",
    "student_id = 0\n",
    "instructor_id = 0\n",
    "\n",
    "# step 3\n",
    "for row in reader:\n",
    "    # step 3.1\n",
    "    if row['student'] not in student_dict:\n",
    "        student_id += 1\n",
    "        student_dict[row['student']] = student_id\n",
    "        student_table.insert(student_id, row['student'])\n",
    "    # step 3.2\n",
    "    if row['instructor'] not in instructor_dict:\n",
    "        instructor_id += 1\n",
    "        instructor_dict[row['instructor']] = instructor_id\n",
    "        instructor_table.insert(instructor_id, row['instructor'])\n",
    "    # step 3.3\n",
    "    fact_list = [student_dict[row['student'], row['instructor']]]\n",
    "    fact_table.insert(fact_list)    "
   ]
  },
  {
   "cell_type": "markdown",
   "metadata": {},
   "source": [
    "Let's analyze it step-by-step:\n",
    "\n",
    "1. step 1: declare student_dict and instructor_dict for tracking name and id pair.\n",
    "2. step 2: declare student_id and instructor_id for use in creating unique student and instructor numbers\n",
    "3. step 3: populate database\n",
    "    - step 3.1: if student name in the new line hasn't been inserted into student table before, increase student_id by 1, add student name and id pair into student_dict and then insert the new student record into student table\n",
    "    - step 3.2: if instructor name in the new line hasn't been inserted into instructor table before, increase instructor_id by 1, add instructor name and id pair into instructor_dict and then insert the new instructor record into instructor table\n",
    "    - step 3.3: retrieve corresponding student id and instructor id from dictionary, insert them into fact_table.\n",
    "    \n",
    "The dictionaries for name-id pairs perform a central function in this code. We use it for avoiding insert duplicate student and instructor records AND also for generating fact_table. These two dictionaries also give us a way to retrieve ids for previously inserted students and instructors.\n",
    "\n",
    "**TASK 4.3:** Insert the IMDB dataset into your database by completing the `populate_database` function below. Store all IMDB strings in lowercase inside your database.\n",
    "\n",
    "**Hints:**  \n",
    "- The following cell contains a potentially useful list of column names. \n",
    "- Use dictionaries to track ids when creating fact table and to de-duplicate items.\n",
    "- Load records into the database line-by-line while you read through the csv file."
   ]
  },
  {
   "cell_type": "code",
   "execution_count": null,
   "metadata": {
    "collapsed": false
   },
   "outputs": [],
   "source": [
    "'''\n",
    "0 director_name\n",
    "1 num_critic_for_reviews\n",
    "2 duration\n",
    "3 director_facebook_likes\n",
    "4 actor_3_facebook_likes\n",
    "5 actor_2_name\n",
    "6 actor_1_facebook_likes\n",
    "7 gross\n",
    "8 genres\n",
    "9 actor_1_name\n",
    "10 movie_title\n",
    "11 num_voted_users\n",
    "12 cast_total_facebook_likes\n",
    "13 actor_3_name\n",
    "14 facenumber_in_poster\n",
    "15 num_user_for_reviews\n",
    "16 language\n",
    "17 country\n",
    "18 content_rating\n",
    "19 budget\n",
    "20 title_year\n",
    "21 actor_2_facebook_likes\n",
    "22 imdb_score\n",
    "23 aspect_ratio\n",
    "24 movie_facebook_likes\n",
    "'''"
   ]
  },
  {
   "cell_type": "code",
   "execution_count": null,
   "metadata": {
    "collapsed": true,
    "scrolled": true
   },
   "outputs": [],
   "source": [
    "def populate_database(conn, csv_file):\n",
    "    reader = csv.reader(open(csv_file, encoding='latin1'))\n",
    "\n",
    "    # track id for items\n",
    "    # YOUR CODE HERE\n",
    "    \n",
    "    # track current id for items\n",
    "    # YOUR CODE HERE\n",
    "    \n",
    "    next(reader, None)\n",
    "    for row in reader:\n",
    "        row = [item.lower() for item in row]\n",
    "        fact_list = []\n",
    "        \n",
    "        # check items already exists\n",
    "        # YOUR CODE HERE\n",
    "        \n",
    "        # fill in fact_list\n",
    "        # YOUR CODE HERE\n",
    "        \n",
    "        # insert fact table\n",
    "        # YOUR CODE HERE\n",
    "        conn.commit()\n",
    "        \n",
    "populate_database(conn, 'all_data.csv')"
   ]
  },
  {
   "cell_type": "markdown",
   "metadata": {},
   "source": [
    "## Part 4.4: Relational Algebra\n",
    "\n",
    "In this part, your task is to write relational algebra expressions based on the following three tables that represent a very limited subset of the IMDB dataset. "
   ]
  },
  {
   "cell_type": "markdown",
   "metadata": {},
   "source": [
    "`actors` Table:\n",
    "\n",
    "| name | country | facebook_likes |age|               \n",
    "|---------------|------|------|------| \n",
    "| Jennifer Lawrence| U.S. |34000 |26 | \n",
    "|  Johnny Depp  | U.S.| 40000| 54|                    \n",
    "|Daniel Radcliffe | U.K.|11000 | 28|\n",
    "| Leonardo DiCaprio|U.S. |29000 | 42| \n",
    "|Robin Wright | U.S.|18000 | 51|\n",
    "|Josh Hutcherson |U.S. |14000 | 24| \n",
    "| Peter Dinklage| U.S.|22000 |48 | "
   ]
  },
  {
   "cell_type": "markdown",
   "metadata": {},
   "source": [
    "`actor_movies` Table:\n",
    "\n",
    "| name| movie_name|\n",
    "|------|------|\n",
    "| Jennifer Lawrence| X-Men: Days of Future Past |\n",
    "|Johnny Depp|Pirates of the Caribbean: At World's End|\n",
    "|Robin Wright | The Girl with the Dragon Tattoo |\n",
    "| Jennifer Lawrence| The Hunger Games: Mockingjay - Part 2 |\n",
    "|Leonardo DiCaprio | Inception |\n",
    "| Peter Dinklage|X-Men: Days of Future Past |\n",
    "|Josh Hutcherson | The Hunger Games: Mockingjay - Part 2|"
   ]
  },
  {
   "cell_type": "markdown",
   "metadata": {},
   "source": [
    "`directors` Table:\n",
    "\n",
    "| name | country | facebook_likes |age|               \n",
    "|---------------|------|------|------|  \n",
    "| Christopher Nolan| U.K. |22000 |46 | \n",
    "| Alfonso Cuarón   | Mexico| 10000| 55|                    \n",
    "|Shane Black | U.S.|1000 | 55|\n",
    "| David Fincher|U.S. |21000 | 54| \n",
    "|J.J. Abrams | U.S.|14000 | 51|"
   ]
  },
  {
   "cell_type": "markdown",
   "metadata": {},
   "source": [
    "`director_movies` Table:\n",
    "\n",
    "| name| movie_name|\n",
    "|------|------|\n",
    "| Christopher Nolan| Inception |\n",
    "|Shane Black|Iron Man 3|\n",
    "|Alfonso Cuarón | Gravity |\n",
    "| J.J. Abrams| Star Wars: The Force Awakens|\n",
    "|David Fincher | The Girl with the Dragon Tattoo |"
   ]
  },
  {
   "cell_type": "markdown",
   "metadata": {},
   "source": [
    "#### TASK 4: Based on the tables above, answer the following using relational algebra.\n",
    "1. Find the name of all movies that have leading american actors who are over 50-years-old.\n",
    "1. Find the name of all actors/actress that didn't star in the movie _Inception_.\n",
    "1. Find the name of all movies that have both famous directors and famous actors. (Assume people with at least 20,000 facebook are famous.)\n",
    "1. Find the name of actor/actress that has the highest number of movies.<br>\n",
    "    Hint: use aggregate functions\n",
    "1. Find the name of movies whose actor has the highest number of facebook likes.<br>\n",
    "    Hint: use aggregate functions/temp variables"
   ]
  },
  {
   "cell_type": "markdown",
   "metadata": {},
   "source": [
    "_write your answers in this cell_\n",
    "\n",
    "# YOUR CODE HERE"
   ]
  },
  {
   "cell_type": "markdown",
   "metadata": {},
   "source": [
    "***\n",
    "## Part 4.5: Running Queries"
   ]
  },
  {
   "cell_type": "markdown",
   "metadata": {},
   "source": [
    "Now that you have created a database with the IMDB data. Your customer needs records that satisfy their requirements based on several constraints in order to improve their business revenue. \n",
    "In this part, you will create several SQL statements to extract them. \n",
    "\n",
    "IPython has a built-in module called [sql](https://pypi.python.org/pypi/ipython-sql) which allows us to easily interface with a database. The following two lines load this SQL extension and connect to your IMDB database:"
   ]
  },
  {
   "cell_type": "code",
   "execution_count": null,
   "metadata": {
    "collapsed": false,
    "scrolled": false
   },
   "outputs": [],
   "source": [
    "%reload_ext sql\n",
    "%sql sqlite:///movie.db"
   ]
  },
  {
   "cell_type": "markdown",
   "metadata": {},
   "source": [
    "Your task is to write 10 queries that fetch certain records for your customers. To run SQL queries, first call <font color = \"red\">%%sql</font> magic and then write your SQL queries."
   ]
  },
  {
   "cell_type": "markdown",
   "metadata": {},
   "source": [
    "**Query 4.1: Find the number of directors in the directors table.**"
   ]
  },
  {
   "cell_type": "code",
   "execution_count": null,
   "metadata": {
    "collapsed": false
   },
   "outputs": [],
   "source": [
    "%%sql\n"
   ]
  },
  {
   "cell_type": "markdown",
   "metadata": {},
   "source": [
    "\n",
    "**Query 4.2: Find the number of actors in the actors table.**"
   ]
  },
  {
   "cell_type": "code",
   "execution_count": null,
   "metadata": {
    "collapsed": false
   },
   "outputs": [],
   "source": [
    "%%sql\n"
   ]
  },
  {
   "cell_type": "markdown",
   "metadata": {},
   "source": [
    "**Query 4.3: Find the number of movies in the movies table.**"
   ]
  },
  {
   "cell_type": "code",
   "execution_count": null,
   "metadata": {
    "collapsed": false
   },
   "outputs": [],
   "source": [
    "%%sql\n"
   ]
  },
  {
   "cell_type": "markdown",
   "metadata": {},
   "source": [
    "\n",
    "There should be 1453 directors, 3874 actors, 3101 movies. Please make sure you get the same results before running the following queries.\n",
    "\n",
    "Now, we can have some fun querying the database!\n",
    "\n",
    "**Query 4.4: Find years that have more than 100 movies and arrange them in ascending order. **\n"
   ]
  },
  {
   "cell_type": "code",
   "execution_count": null,
   "metadata": {
    "collapsed": false,
    "scrolled": true
   },
   "outputs": [],
   "source": [
    "%%sql\n"
   ]
  },
  {
   "cell_type": "markdown",
   "metadata": {},
   "source": [
    "\n",
    "**Query 4.5: Order director name from most Facebook likes to fewest Facebook likes and only show top 10 directors.**\n"
   ]
  },
  {
   "cell_type": "code",
   "execution_count": null,
   "metadata": {
    "collapsed": false,
    "scrolled": false
   },
   "outputs": [],
   "source": [
    "%%sql\n"
   ]
  },
  {
   "cell_type": "markdown",
   "metadata": {},
   "source": [
    "\n",
    "**Query 6: Find the titles of movies that are directed by Christopher Nolan and order them by movie title. **\n"
   ]
  },
  {
   "cell_type": "code",
   "execution_count": null,
   "metadata": {
    "collapsed": false,
    "scrolled": false
   },
   "outputs": [],
   "source": [
    "%%sql\n"
   ]
  },
  {
   "cell_type": "markdown",
   "metadata": {},
   "source": [
    "\n",
    "** Query 4.7: Find all the directors who directed at least 5 movies since 2007 (included) sorted by the number of movies in descending order.**\n"
   ]
  },
  {
   "cell_type": "code",
   "execution_count": null,
   "metadata": {
    "collapsed": false,
    "scrolled": true
   },
   "outputs": [],
   "source": [
    "%%sql\n"
   ]
  },
  {
   "cell_type": "markdown",
   "metadata": {},
   "source": [
    "\n",
    "**Query 4.8: Find the top five most productive actors since 2010 (included).**\n"
   ]
  },
  {
   "cell_type": "code",
   "execution_count": null,
   "metadata": {
    "collapsed": false,
    "scrolled": true
   },
   "outputs": [],
   "source": [
    "%%sql\n"
   ]
  },
  {
   "cell_type": "markdown",
   "metadata": {},
   "source": [
    "\n",
    "**Query 4.9: Find all the actors who have collaborated with Christopher Nolan, sorted by their collaboration frequency in descending order.**\n"
   ]
  },
  {
   "cell_type": "code",
   "execution_count": null,
   "metadata": {
    "collapsed": false,
    "scrolled": true
   },
   "outputs": [],
   "source": [
    "%%sql\n"
   ]
  },
  {
   "cell_type": "markdown",
   "metadata": {},
   "source": [
    "\n",
    "**Query 4.10: Without using an aggregation operator, write a SQL statement that finds the title of the movie(s) with the most Facebook likes.**\n"
   ]
  },
  {
   "cell_type": "code",
   "execution_count": null,
   "metadata": {
    "collapsed": false
   },
   "outputs": [],
   "source": [
    "%%sql\n"
   ]
  },
  {
   "cell_type": "markdown",
   "metadata": {},
   "source": [
    "\n",
    "\n",
    "## Part 4.6: Database Visualization\n",
    "\n",
    "Since your customer isn't very good with databases, SQL or tabluar data,  they want your help visualizing some of database. With the help of SQL, you can easily retrieve data from the database, and then use pandas dataframes and `matlabplotlib.pyplot` to create the visualizations.\n",
    "\n",
    "Note: refer to Pandas visualization method [here](https://pandas.pydata.org/pandas-docs/stable/visualization.html)."
   ]
  },
  {
   "cell_type": "code",
   "execution_count": null,
   "metadata": {
    "collapsed": true
   },
   "outputs": [],
   "source": [
    "import matplotlib.pyplot as plt\n",
    "import pandas as pd\n",
    "%matplotlib inline"
   ]
  },
  {
   "cell_type": "markdown",
   "metadata": {},
   "source": [
    "** Example **:\n",
    "The customer wants a a bar chart of the top 10 actors(based on facebook likes), sorted in descending order. "
   ]
  },
  {
   "cell_type": "code",
   "execution_count": null,
   "metadata": {
    "collapsed": false,
    "scrolled": false
   },
   "outputs": [],
   "source": [
    "# Solution\n",
    "\n",
    "c.execute('''\n",
    "        SELECT actor_name, actor_facebook_likes\n",
    "        FROM actors\n",
    "        ORDER BY actor_facebook_likes DESC\n",
    "        LIMIT 10''')\n",
    "dataframe = pd.DataFrame(data = c.fetchall(), columns = ['actor_name', 'actor_fcebook_likes'])\n",
    "dataframe.plot.bar(x='actor_name', title='actor facebook likes', figsize=(10,7))"
   ]
  },
  {
   "cell_type": "markdown",
   "metadata": {},
   "source": [
    "** Task 4.5 **: Create box plots of movie duration, imdb_score and num_critic_for_reviews.  Hint: Create each in its own plot, otherwise the y-axis will not be informative."
   ]
  },
  {
   "cell_type": "code",
   "execution_count": null,
   "metadata": {
    "collapsed": false
   },
   "outputs": [],
   "source": [
    "# YOUR CODE HERE"
   ]
  },
  {
   "cell_type": "markdown",
   "metadata": {},
   "source": [
    "** Task 4.6 **: Create a pie chart of movie counts per country of countries that have more than 10 movies"
   ]
  },
  {
   "cell_type": "code",
   "execution_count": null,
   "metadata": {
    "collapsed": false,
    "scrolled": false
   },
   "outputs": [],
   "source": [
    "# YOUR CODE HERE"
   ]
  },
  {
   "cell_type": "markdown",
   "metadata": {},
   "source": [
    "** Task 4.7 **: Plot a curve of cumulative number of movies released over time.\n",
    "\n",
    "** hint **: use [cumsum](https://pandas.pydata.org/pandas-docs/stable/generated/pandas.DataFrame.cumsum.html) function."
   ]
  },
  {
   "cell_type": "code",
   "execution_count": null,
   "metadata": {
    "collapsed": false,
    "scrolled": false
   },
   "outputs": [],
   "source": [
    "# YOUR CODE HERE"
   ]
  },
  {
   "cell_type": "markdown",
   "metadata": {},
   "source": [
    "***\n",
    "## Part 4.7: Query Optimization\n",
    "In this part, we will see how to optimize your program by indexing and using materialized views. We will also optimize SQL by using query plan analysis. \n",
    "\n",
    "The next three functions are designed to exercise your database.  `read_actors` performs `num` SQL `SELECT`s, the  function `write_actors` does `num` SQL `INSERT`s.  The function `cleanup_test` deletes the inserts generated by `write_actors`."
   ]
  },
  {
   "cell_type": "code",
   "execution_count": null,
   "metadata": {
    "collapsed": true
   },
   "outputs": [],
   "source": [
    "def write_actors(c, conn, num):\n",
    "    # update_actors\n",
    "    for i in range(num):\n",
    "        c.execute('''INSERT INTO actors (actor_name) VALUES ('Dr. Who %d')'''%i)\n",
    "    conn.commit()\n",
    "\n",
    "def read_actors(c, conn, num):\n",
    "    # read_actors\n",
    "    for i in range(num):\n",
    "        c.execute('''SELECT * \n",
    "                     FROM actors\n",
    "                     WHERE actor_name = \"Dr. Who %d\"'''%i)\n",
    "\n",
    "def cleanup_test(c, conn):\n",
    "    c.execute('''DELETE FROM actors WHERE actor_id >= 3873''')\n",
    "    conn.commit()"
   ]
  },
  {
   "cell_type": "markdown",
   "metadata": {},
   "source": [
    "Below is some code for benchmarking your database.  Run it to see how well your database currently performs."
   ]
  },
  {
   "cell_type": "code",
   "execution_count": null,
   "metadata": {
    "collapsed": false
   },
   "outputs": [],
   "source": [
    "conn = sqlite3.connect('movie.db')\n",
    "c = conn.cursor()\n",
    "#benchmark_db(conn)\n",
    "\n",
    "%timeit write_actors(c,conn, 15000)\n",
    "%timeit read_actors(c, conn, 5000)\n",
    "cleanup_test(c,conn)"
   ]
  },
  {
   "cell_type": "markdown",
   "metadata": {
    "collapsed": true
   },
   "source": [
    "### Indexing\n",
    "\n",
    "** Task 4.8 **: Optimize a copy of your database so that the `read_actors` test performs more quickly.  Fill in the appropriate SQL commands in the cell below.  \n",
    "\n",
    "Hint: try adding an INDEX\n",
    "\n",
    "Note: The line `!cp movie.db movie1.db` copies your `movie.db` database to `movie1.db`."
   ]
  },
  {
   "cell_type": "code",
   "execution_count": null,
   "metadata": {
    "collapsed": true
   },
   "outputs": [],
   "source": [
    "!cp movie.db movie1.db"
   ]
  },
  {
   "cell_type": "code",
   "execution_count": null,
   "metadata": {
    "collapsed": true
   },
   "outputs": [],
   "source": [
    "conn1 = sqlite3.connect('movie1.db')\n",
    "c1 = conn1.cursor()\n",
    "# YOUR CODE HERE\n",
    "conn1.commit()"
   ]
  },
  {
   "cell_type": "markdown",
   "metadata": {},
   "source": [
    "Run the following code to see how your optimization performs."
   ]
  },
  {
   "cell_type": "code",
   "execution_count": null,
   "metadata": {
    "collapsed": false
   },
   "outputs": [],
   "source": [
    "conn1 = sqlite3.connect('movie1.db')\n",
    "c1 = conn1.cursor()\n",
    "%timeit write_actors(c1,conn1, 15000)\n",
    "%timeit read_actors(c1, conn1, 5000)\n",
    "#cleanup_test(c1,conn1)"
   ]
  },
  {
   "cell_type": "markdown",
   "metadata": {},
   "source": [
    "** Task 4.9 **: Explain the performance changes you see.  Have any trade-offs been made?"
   ]
  },
  {
   "cell_type": "markdown",
   "metadata": {},
   "source": [
    "# YOUR CODE HERE"
   ]
  },
  {
   "cell_type": "markdown",
   "metadata": {},
   "source": [
    "### Temporary Tables\n",
    "Looking at the source code you have developed for the company you notice the following query turns out to be a bottle neck, \n",
    "\n",
    "```\n",
    "SELECT * FROM actors a, directors d, movies m, facts f \n",
    "                WHERE a.actor_id = f.actor_1_id AND d.director_id = f.director_id AND m.movie_id = f.movie_id\n",
    "```\n",
    "\n",
    "Below is some code to benchmark it's performance.  Try running it."
   ]
  },
  {
   "cell_type": "code",
   "execution_count": null,
   "metadata": {
    "collapsed": true
   },
   "outputs": [],
   "source": [
    "def test(conn, num):\n",
    "    c = conn.cursor()\n",
    "    for i in range(num):\n",
    "        c.execute(\n",
    "            '''SELECT * FROM actors a, directors d, movies m, facts f \n",
    "                WHERE a.actor_id = f.actor_1_id AND d.director_id = f.director_id AND m.movie_id = f.movie_id''')\n",
    "        conn.commit()"
   ]
  },
  {
   "cell_type": "code",
   "execution_count": null,
   "metadata": {
    "collapsed": false
   },
   "outputs": [],
   "source": [
    "conn = sqlite3.connect('movie.db')\n",
    "%timeit test(conn,50000)"
   ]
  },
  {
   "cell_type": "markdown",
   "metadata": {},
   "source": [
    "** Task 4.10: ** One way to speed this query up is to store it's results and refer to them as needed, as opposed to rerunning the query.  Do this *inside* the database by using SQL to create a tempory table called 'testtmp' of these search results.  Write solution below, and then use the benchmarking code provided to test it."
   ]
  },
  {
   "cell_type": "code",
   "execution_count": null,
   "metadata": {
    "collapsed": true
   },
   "outputs": [],
   "source": [
    "def setup_mytmp(conn):\n",
    "    ''' Create a temporary table for a common query's results'''\n",
    "    c = conn.cursor()\n",
    "    c.execute('''DROP TABLE IF EXISTS mytmp''')\n",
    "# YOUR CODE HERE"
   ]
  },
  {
   "cell_type": "code",
   "execution_count": null,
   "metadata": {
    "collapsed": false
   },
   "outputs": [],
   "source": [
    "def test_mytmp(conn, num):\n",
    "    c = conn.cursor()\n",
    "    setup_mytmp(conn)\n",
    "    for i in range(num):\n",
    "        c.execute('''SELECT * FROM mytmp''')\n",
    "\n",
    "%timeit test_mytmp(conn, 50000)"
   ]
  },
  {
   "cell_type": "markdown",
   "metadata": {},
   "source": [
    "### Analysis\n",
    "\n",
    "In this example, the run time of each test depends on the parameter `num`. The code below runs both `test` and your optimized version `test_mytmp` with `num = [200, 400, 800, 1600, 3200, 6400, 12800]` and plots the run time performance of each function.  Note: This function uses `timeit` to find best execution times using repeated trials, the number of trails used depends on each trails run time (shorter times use more trials)."
   ]
  },
  {
   "cell_type": "code",
   "execution_count": null,
   "metadata": {
    "collapsed": false
   },
   "outputs": [],
   "source": [
    "import timeit as timeit\n",
    "\n",
    "X = [200, 400, 800, 1600, 3200, 6400, 12800]\n",
    "a = []\n",
    "b = []\n",
    "for i in X:\n",
    "    result = %timeit -o test(conn,i)\n",
    "    a.append(result.best)\n",
    "    result = %timeit -o test_mytmp(conn,i)\n",
    "    b.append(result.best)     \n",
    "    \n",
    "plt.plot(X, a, label = 'test')\n",
    "plt.plot(X, b, label = 'test_mytmp')\n",
    "plt.xlabel = 'number of select'\n",
    "plt.ylabel = 'time / s'\n",
    "plt.legend()"
   ]
  },
  {
   "cell_type": "markdown",
   "metadata": {},
   "source": [
    "** Task 4.11 ** What do the performance curves tell you about the use of temporary tables in this example?\n",
    "\n",
    "_write your answer here_"
   ]
  }
 ],
 "metadata": {
  "kernelspec": {
   "display_name": "Python 3",
   "language": "python",
   "name": "python3"
  },
  "language_info": {
   "codemirror_mode": {
    "name": "ipython",
    "version": 3
   },
   "file_extension": ".py",
   "mimetype": "text/x-python",
   "name": "python",
   "nbconvert_exporter": "python",
   "pygments_lexer": "ipython3",
   "version": "3.6.0"
  }
 },
 "nbformat": 4,
 "nbformat_minor": 1
}
